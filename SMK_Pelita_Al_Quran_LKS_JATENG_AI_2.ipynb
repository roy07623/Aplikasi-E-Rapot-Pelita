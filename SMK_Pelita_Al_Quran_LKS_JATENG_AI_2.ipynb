{
  "nbformat": 4,
  "nbformat_minor": 0,
  "metadata": {
    "colab": {
      "name": "SMK Pelita Al Quran_LKS_JATENG_AI_2.ipynb",
      "provenance": [],
      "collapsed_sections": [],
      "include_colab_link": true
    },
    "kernelspec": {
      "name": "python3",
      "display_name": "Python 3"
    },
    "language_info": {
      "name": "python"
    }
  },
  "cells": [
    {
      "cell_type": "markdown",
      "metadata": {
        "id": "view-in-github",
        "colab_type": "text"
      },
      "source": [
        "<a href=\"https://colab.research.google.com/github/roy07623/Aplikasi-E-Rapot-Pelita/blob/main/SMK_Pelita_Al_Quran_LKS_JATENG_AI_2.ipynb\" target=\"_parent\"><img src=\"https://colab.research.google.com/assets/colab-badge.svg\" alt=\"Open In Colab\"/></a>"
      ]
    },
    {
      "cell_type": "markdown",
      "metadata": {
        "id": "_YPBdmMs3KDK"
      },
      "source": [
        "# **TOPIK: DATA PREPARATION FOR FORECASTING (A1)**"
      ]
    },
    {
      "cell_type": "markdown",
      "metadata": {
        "id": "CDA_XIsx3ddC"
      },
      "source": [
        "\n",
        "1. Identifikasi dataset yang diberikan sebagai berikut:\n",
        "https://www.kaggle.com/adityadesai13/used-car-dataset-ford-and-mercedes\n",
        "\n",
        "2. jelaskan kategori atau tipe data untuk masing - masing atribut atau variable\n",
        "3. baca dataset tersebut dengan Python pandas dan berikan dokumentasi sederhana mengenai cara kerja\n",
        "\n"
      ]
    },
    {
      "cell_type": "code",
      "metadata": {
        "id": "RW-n5HaE27a0",
        "colab": {
          "base_uri": "https://localhost:8080/",
          "height": 1000
        },
        "outputId": "7b90188f-b9ba-43a7-f72f-5e1271b5b88c"
      },
      "source": [
        "# Jawaban soal nomor 1.(A1)\n",
        "# Lingkungan Python 3 ini dilengkapi dengan banyak pustaka analitik bermanfaat yang diinstal\n",
        "# Hal ini didefinisikan oleh gambar Docker kaggle / python: https://github.com/kaggle/docker-python\n",
        "# Misalnya, inilah beberapa paket bermanfaat untuk dimuat\n",
        "\n",
        "import numpy as np # linear algebra\n",
        "import pandas as pd # data processing, CSV file I/O (e.g. pd.read_csv)\n",
        "\n",
        "# File data input tersedia dalam read-only \".. Direktori /input/\"\n",
        "# Misalnya, menjalankan ini (dengan mengklik jalankan atau tekan Shift+Enter) akan mencantumkan semua file di bawah direktori input\n",
        "\n",
        "# CONNECT GOOGLE DRIVE\n",
        "from google.colab import drive\n",
        "drive.mount('/content/drive/')\n",
        "\n",
        "# Anda dapat menulis hingga 20GB ke direktori saat ini (/kaggle/working/) yang dipertahankan sebagai output saat Anda membuat versi menggunakan \"Save &amp; Run All\" \n",
        "# Anda juga dapat menulis file sementara ke /content/drive/, tetapi tidak akan disimpan di luar sesi saat ini\n",
        "\n",
        "# Import Library Data\n",
        "import pandas as pd\n",
        "import numpy as np\n",
        "import seaborn as sns\n",
        "import matplotlib.pyplot as plt\n",
        "\n",
        "\n",
        "import warnings\n",
        "warnings.filterwarnings('ignore')\n",
        "\n",
        "# Jawaban soal nomor 2.(A1)\n",
        "# disini saya akan menjelaskan tipe data masing-masing tipe data yang ada dalam kolom dataset LKS Mercedes/toyota.csv meliputi, model: string, year: int64, price: int64, transsmision: string, mileage: int64, fueltype: string, tax: int64, mpg: float64, engineSize: float64 dan kseimpulanya adalah ada tipe data float(2), int64(4), dan string(3) \n",
        "# Load Data\n",
        "toyota = pd.read_csv('/content/drive/My Drive/Dataset LKS Mercedes/toyota.csv')\n",
        "toyota.head() # berfungsi untuk menampilkan data yang ada dalam dataset\n",
        "\n",
        "# jawaban soal nomor 3.(A1)\n",
        "toyota.isnull().sum() # akan memberikan jumlah kolom-nilai yang hilang.\n",
        "toyota.info() # berfungsi untuk mengetahui semua data yang ada dalam suatu dataset\n",
        "toyota.describe() # berfungsi untuk menampilkan/membaca nilai suatu data\n",
        " \n",
        "# Mengubah suatu tipe data ke tipe data yang lain\n",
        "toyota[\"model\"] = toyota[\"model\"].astype(str)\n",
        "toyota[\"transmission\"] = toyota[\"transmission\"].astype(str)\n",
        "toyota[\"fuelType\"] = toyota[\"fuelType\"].astype(str)\n",
        "print(toyota)\n",
        "\n",
        "# Normalisasi Data Menggunakan Z-Score\n",
        "# Metode ketiga adalah Z-score atau disebut juga standard score. Dengan formula ini, masing-masing nilai pada fitur dikurangi dengan miu (µ) yang merupakan nilai rata-rata fitur, kemudian dibagi dengan sigma (σ) yang merupakan standar deviasi.\n",
        "toyota[\"price\"] = (toyota[\"price\"] - toyota[\"price\"].mean()) / toyota[\"price\"].std()\n",
        "\n",
        "toyota.describe(include='O') # describe dengan menampilkan include 0\n",
        "\n",
        "cat_columns = ['model', 'transmission', 'fuelType'] # cat_columns akan menampilkan variabel ['model', 'transmission', 'fuelType']\n",
        "num_columns = ['year', 'price', 'mileage', 'tax', 'mpg', 'engineSize'] # num_columns akan menampilkan variabel ['year', 'price', 'mileage', 'tax', 'mpg', 'engineSize'] \n",
        "num_columns_no_label = ['year', 'mileage', 'tax', 'mpg', 'engineSize'] # num_columns_no_label akan menampilkan variabel ['year', 'mileage', 'tax', 'mpg', 'engineSize']\n",
        "\n",
        "# visualisasi menggunakan scatter plot matrix\n",
        "plt.figure(figsize=(10,6)) \n",
        "sns.heatmap(toyota.corr(), annot=True, cmap='coolwarm')\n",
        "\n",
        "X=toyota.drop(['price'], axis=1)\n",
        "Y=toyota['price']\n",
        "\n",
        "toyota2 = pd.get_dummies(toyota, columns=cat_columns)\n",
        "toyota2.head() # sudah saya jelaskan diatas\n",
        "toyota2.info()  # sudah saya jelaskan diatas\n",
        "\n",
        "# Normalisasi Data Menggunakan Z-Score\n",
        "toyota2[\"price\"] = (toyota2[\"price\"] - toyota2[\"price\"].mean()) / toyota2[\"price\"].std()\n",
        "\n",
        "# MEMISAHKAN ANTARA VARIABEL X DAN Y MENGGUNAKAN SKLEARN TRAIN TEST SPLIT\n",
        "from sklearn.model_selection import train_test_split\n",
        "\n",
        "# Running antara variabel X dan Y  menggunakan train_test_split\n",
        "x_train, x_test, y_train, y_test = train_test_split(X, Y, test_size=0.2, random_state=42)\n",
        "\n",
        "from sklearn.preprocessing import StandardScaler, OneHotEncoder\n",
        "\n",
        "scaler=StandardScaler()\n",
        "\n",
        "x_train= scaler.fit_transform(x_train[num_columns_no_label])\n",
        "x_test= scaler.transform(x_test[num_columns_no_label])\n",
        "\n",
        "# menghapus nilai yang mengandung missing value di colom price\n",
        "X=toyota2.drop(['price'], axis=1)\n",
        "Y=toyota2['price']\n",
        "\n",
        "# Running antara variabel X dan Y  menggunakan train_test_split\n",
        "x_train, x_test, y_train, y_test = train_test_split(X, Y, test_size=0.2, random_state=42)\n",
        "\n",
        "# Pemiihan model menggunakan LinearRegression Dan DecisionTreeRegressor\n",
        "from sklearn.linear_model import LinearRegression, Lasso\n",
        "from sklearn.tree import DecisionTreeRegressor\n",
        "\n",
        "# Running menggunakan model diatas\n",
        "lin_model = LinearRegression()\n",
        "lin_model.fit(x_train, y_train)\n",
        "lin_pred = lin_model.predict(x_test)\n",
        "\n",
        "# Memanggil accuracy variabel dari data train dan test  menggunakan fungsi lin_model.score\n",
        "print('Train Accuracy: %f' % lin_model.score(x_train, y_train))\n",
        "print('Test Accuracy: %f' % lin_model.score(x_test, y_test))"
      ],
      "execution_count": null,
      "outputs": [
        {
          "output_type": "stream",
          "text": [
            "Drive already mounted at /content/drive/; to attempt to forcibly remount, call drive.mount(\"/content/drive/\", force_remount=True).\n",
            "<class 'pandas.core.frame.DataFrame'>\n",
            "RangeIndex: 6738 entries, 0 to 6737\n",
            "Data columns (total 9 columns):\n",
            " #   Column        Non-Null Count  Dtype  \n",
            "---  ------        --------------  -----  \n",
            " 0   model         6738 non-null   object \n",
            " 1   year          6738 non-null   int64  \n",
            " 2   price         6738 non-null   int64  \n",
            " 3   transmission  6738 non-null   object \n",
            " 4   mileage       6738 non-null   int64  \n",
            " 5   fuelType      6738 non-null   object \n",
            " 6   tax           6738 non-null   int64  \n",
            " 7   mpg           6738 non-null   float64\n",
            " 8   engineSize    6738 non-null   float64\n",
            "dtypes: float64(2), int64(4), object(3)\n",
            "memory usage: 473.9+ KB\n",
            "               model  year  price transmission  ...  fuelType  tax   mpg  engineSize\n",
            "0               GT86  2016  16000       Manual  ...    Petrol  265  36.2         2.0\n",
            "1               GT86  2017  15995       Manual  ...    Petrol  145  36.2         2.0\n",
            "2               GT86  2015  13998       Manual  ...    Petrol  265  36.2         2.0\n",
            "3               GT86  2017  18998       Manual  ...    Petrol  150  36.2         2.0\n",
            "4               GT86  2017  17498       Manual  ...    Petrol  145  36.2         2.0\n",
            "...              ...   ...    ...          ...  ...       ...  ...   ...         ...\n",
            "6733              IQ  2011   5500    Automatic  ...    Petrol   20  58.9         1.0\n",
            "6734   Urban Cruiser  2011   4985       Manual  ...    Petrol  125  50.4         1.3\n",
            "6735   Urban Cruiser  2012   4995       Manual  ...    Diesel  125  57.6         1.4\n",
            "6736   Urban Cruiser  2011   3995       Manual  ...    Petrol  125  50.4         1.3\n",
            "6737   Urban Cruiser  2011   4495       Manual  ...    Petrol  125  50.4         1.3\n",
            "\n",
            "[6738 rows x 9 columns]\n",
            "<class 'pandas.core.frame.DataFrame'>\n",
            "RangeIndex: 6738 entries, 0 to 6737\n",
            "Data columns (total 32 columns):\n",
            " #   Column                  Non-Null Count  Dtype  \n",
            "---  ------                  --------------  -----  \n",
            " 0   year                    6738 non-null   int64  \n",
            " 1   price                   6738 non-null   float64\n",
            " 2   mileage                 6738 non-null   int64  \n",
            " 3   tax                     6738 non-null   int64  \n",
            " 4   mpg                     6738 non-null   float64\n",
            " 5   engineSize              6738 non-null   float64\n",
            " 6   model_ Auris            6738 non-null   uint8  \n",
            " 7   model_ Avensis          6738 non-null   uint8  \n",
            " 8   model_ Aygo             6738 non-null   uint8  \n",
            " 9   model_ C-HR             6738 non-null   uint8  \n",
            " 10  model_ Camry            6738 non-null   uint8  \n",
            " 11  model_ Corolla          6738 non-null   uint8  \n",
            " 12  model_ GT86             6738 non-null   uint8  \n",
            " 13  model_ Hilux            6738 non-null   uint8  \n",
            " 14  model_ IQ               6738 non-null   uint8  \n",
            " 15  model_ Land Cruiser     6738 non-null   uint8  \n",
            " 16  model_ PROACE VERSO     6738 non-null   uint8  \n",
            " 17  model_ Prius            6738 non-null   uint8  \n",
            " 18  model_ RAV4             6738 non-null   uint8  \n",
            " 19  model_ Supra            6738 non-null   uint8  \n",
            " 20  model_ Urban Cruiser    6738 non-null   uint8  \n",
            " 21  model_ Verso            6738 non-null   uint8  \n",
            " 22  model_ Verso-S          6738 non-null   uint8  \n",
            " 23  model_ Yaris            6738 non-null   uint8  \n",
            " 24  transmission_Automatic  6738 non-null   uint8  \n",
            " 25  transmission_Manual     6738 non-null   uint8  \n",
            " 26  transmission_Other      6738 non-null   uint8  \n",
            " 27  transmission_Semi-Auto  6738 non-null   uint8  \n",
            " 28  fuelType_Diesel         6738 non-null   uint8  \n",
            " 29  fuelType_Hybrid         6738 non-null   uint8  \n",
            " 30  fuelType_Other          6738 non-null   uint8  \n",
            " 31  fuelType_Petrol         6738 non-null   uint8  \n",
            "dtypes: float64(3), int64(3), uint8(26)\n",
            "memory usage: 487.1 KB\n",
            "Train Accuracy: 0.928142\n",
            "Test Accuracy: 0.926525\n"
          ],
          "name": "stdout"
        },
        {
          "output_type": "display_data",
          "data": {
            "image/png": "[encoded data removed]",
            "text/plain": [
              "<Figure size 720x432 with 2 Axes>"
            ]
          },
          "metadata": {
            "tags": []
          }
        }
      ]
    },
    {
      "cell_type": "markdown",
      "metadata": {
        "id": "OaMpavoOzfq_"
      },
      "source": [
        "# **TOPIK: DATA PREPARATION FOR CLUSTERING (A2)**"
      ]
    },
    {
      "cell_type": "markdown",
      "metadata": {
        "id": "Vm8pqJ3TzlA0"
      },
      "source": [
        "\n",
        "1. Identifikasi dataset yang diberikan sebagai berikut:\n",
        "https://www.kaggle.com/vjchoudhary7/customer-segmentation-tutorial-in-python\n",
        "\n",
        "2. jelaskan kategori atau tipe data untuk masing - masing atribut atau variable\n",
        "3. baca dataset tersebut dengan Python pandas dan berikan dokumentasi sederhana mengenai cara kerja\n",
        "\n"
      ]
    },
    {
      "cell_type": "code",
      "metadata": {
        "colab": {
          "base_uri": "https://localhost:8080/",
          "height": 1000
        },
        "id": "Lr1P29pgSmDb",
        "outputId": "dc98fbfd-3fcf-4935-9d87-edd0d8b18907"
      },
      "source": [
        "# Jawaban soal nomor 1.(A2)\n",
        "# Lingkungan Python 3 ini dilengkapi dengan banyak pustaka analitik bermanfaat yang diinstal\n",
        "# Hal ini didefinisikan oleh gambar Docker kaggle / python: https://github.com/kaggle/docker-python\n",
        "# Misalnya, inilah beberapa paket bermanfaat untuk dimuat\n",
        "\n",
        "# Import Library\n",
        "import numpy as np # linear algebra\n",
        "import pandas as pd # data processing, CSV file I/O (e.g. pd.read_csv)\n",
        "import matplotlib.pyplot as plt\n",
        "from matplotlib.pyplot import figure\n",
        "import seaborn as sns\n",
        "sns.set(style='ticks')\n",
        "from sklearn.cluster import KMeans\n",
        "from sklearn.preprocessing import StandardScaler\n",
        "\n",
        "# File data input tersedia dalam read-only \".. Direktori /input/\"\n",
        "# Misalnya, menjalankan ini (dengan mengklik jalankan atau tekan Shift+Enter) akan mencantumkan semua file di bawah direktori input\n",
        "\n",
        "# Anda dapat menulis hingga 20GB ke direktori saat ini (/kaggle/working/) yang dipertahankan sebagai output saat Anda membuat versi menggunakan \"Save &amp; Run All\" \n",
        "# Anda juga dapat menulis file sementara ke /content/drive/, tetapi tidak akan disimpan di luar sesi saat ini\n",
        "\n",
        "# Jawaban soal nomor 2.(A2)\n",
        "# disini saya akan menjelaskan tipe data masing-masing tipe data yang ada dalam kolom dataset LKS Mall Customer Segmentation Data/Mall_Customers.csv meliputi, (CustomerID: int64, Gender: string, Age: int64, AnnualIncome(k$): int64, SpendingScore: int64)\n",
        "\n",
        "# Load Data (LKS Mall Customer Segmentation Data/Mall_Customers.csv)\n",
        "mall_customers = pd.read_csv('/content/drive/My Drive/LKS Mall Customer Segmentation Data/Mall_Customers.csv')\n",
        "mall_customers.head() # berfungsi untuk menampilkan data yang ada dalam dataset\n",
        "\n",
        "# jawaban soal nomor 3.(A2)\n",
        "mall_customers.columns = mall_customers.columns.str.replace(' ', '') # berfungsi untuk mer-replace colom tipe data string yang ada dalam mall_customers\n",
        "print(\"\\n\\n\", mall_customers)  # berfungsi untuk menampilkan data yang ada dalam mall_customers\n",
        "mall_customers.info() # berfungsi untuk menampilkan info yang ada dalam mall_customers\n",
        "\n",
        "# Mengubah suatu tipe data ke tipe data yang lain (Gender yang tadinya Object saya Ubah ke String)\n",
        "mall_customers[\"Gender\"] = mall_customers[\"Gender\"].astype(str)\n",
        "print(mall_customers)\n",
        "\n",
        "x = mall_customers.groupby('Gender')['AnnualIncome(k$)'].mean()\n",
        "print(x)\n",
        "\n",
        "# Mari kita standarkan variabel sebelum menggunakan algoritma apapun pada mereka.\n",
        "scaler = StandardScaler()\n",
        "features = mall_customers.iloc[:200,2:5]\n",
        "scaled_features = scaler.fit_transform(features)\n",
        "\n",
        "# Disini saya menggunakan metode K-Means\n",
        "kmeans_kwargs = {\n",
        "                \"init\": \"random\",\n",
        "                \"n_init\": 10,\n",
        "                \"max_iter\": 300,\n",
        "                \"random_state\": 42,\n",
        "                 }\n",
        "\n",
        "sse = []\n",
        "\n",
        "for k in range(1,11):\n",
        "    kmeans = KMeans(n_clusters = k, **kmeans_kwargs)\n",
        "    kmeans.fit(scaled_features)\n",
        "    sse.append(kmeans.inertia_)\n",
        "\n",
        "plt.style.use(\"fivethirtyeight\")\n",
        "plt.plot(range(1,11), sse)\n",
        "plt.xticks(range(1,11))\n",
        "plt.xlabel(\"Number of Clusters\")\n",
        "plt.ylabel(\"SSE\")\n",
        "plt.show()"
      ],
      "execution_count": null,
      "outputs": [
        {
          "output_type": "stream",
          "text": [
            "\n",
            "\n",
            "      CustomerID  Gender  Age  AnnualIncome(k$)  SpendingScore(1-100)\n",
            "0             1    Male   19                15                    39\n",
            "1             2    Male   21                15                    81\n",
            "2             3  Female   20                16                     6\n",
            "3             4  Female   23                16                    77\n",
            "4             5  Female   31                17                    40\n",
            "..          ...     ...  ...               ...                   ...\n",
            "195         196  Female   35               120                    79\n",
            "196         197  Female   45               126                    28\n",
            "197         198    Male   32               126                    74\n",
            "198         199    Male   32               137                    18\n",
            "199         200    Male   30               137                    83\n",
            "\n",
            "[200 rows x 5 columns]\n",
            "<class 'pandas.core.frame.DataFrame'>\n",
            "RangeIndex: 200 entries, 0 to 199\n",
            "Data columns (total 5 columns):\n",
            " #   Column                Non-Null Count  Dtype \n",
            "---  ------                --------------  ----- \n",
            " 0   CustomerID            200 non-null    int64 \n",
            " 1   Gender                200 non-null    object\n",
            " 2   Age                   200 non-null    int64 \n",
            " 3   AnnualIncome(k$)      200 non-null    int64 \n",
            " 4   SpendingScore(1-100)  200 non-null    int64 \n",
            "dtypes: int64(4), object(1)\n",
            "memory usage: 7.9+ KB\n",
            "     CustomerID  Gender  Age  AnnualIncome(k$)  SpendingScore(1-100)\n",
            "0             1    Male   19                15                    39\n",
            "1             2    Male   21                15                    81\n",
            "2             3  Female   20                16                     6\n",
            "3             4  Female   23                16                    77\n",
            "4             5  Female   31                17                    40\n",
            "..          ...     ...  ...               ...                   ...\n",
            "195         196  Female   35               120                    79\n",
            "196         197  Female   45               126                    28\n",
            "197         198    Male   32               126                    74\n",
            "198         199    Male   32               137                    18\n",
            "199         200    Male   30               137                    83\n",
            "\n",
            "[200 rows x 5 columns]\n",
            "Gender\n",
            "Female    59.250000\n",
            "Male      62.227273\n",
            "Name: AnnualIncome(k$), dtype: float64\n"
          ],
          "name": "stdout"
        },
        {
          "output_type": "display_data",
          "data": {
            "image/png": "[encoded data removed]",
            "text/plain": [
              "<Figure size 432x288 with 1 Axes>"
            ]
          },
          "metadata": {
            "tags": []
          }
        }
      ]
    },
    {
      "cell_type": "markdown",
      "metadata": {
        "id": "pyfZ19R8zFLv"
      },
      "source": [
        "# **TOPIK: DATA PREPARATION FOR CLASSIFICATION (A3)**"
      ]
    },
    {
      "cell_type": "markdown",
      "metadata": {
        "id": "nSp2zHA8zN5F"
      },
      "source": [
        "\n",
        "1. Identifikasi dataset yang diberikan sebagai berikut:\n",
        "https://www.kaggle.com/primaryobjects/voicegender\n",
        "\n",
        "2. jelaskan kategori atau tipe data untuk masing - masing atribut atau variable\n",
        "3. baca dataset tersebut dengan Python pandas dan berikan dokumentasi sederhana mengenai cara kerja\n",
        "\n"
      ]
    },
    {
      "cell_type": "code",
      "metadata": {
        "colab": {
          "base_uri": "https://localhost:8080/",
          "height": 780
        },
        "id": "ywOU2xPzZi5E",
        "outputId": "1aa6998c-5241-4435-cd0c-d73a12271bca"
      },
      "source": [
        "#Jawaban soal (A3)\n",
        "#1 Database ini dibuat untuk mengidentifikasi suara sebagai pria atau wanita, berdasarkan properti akustik suara dan ucapan. Dataset terdiri dari 3.168 sampel suara yang direkam, dikumpulkan dari pembicara pria dan wanita. Sampel suara diproses sebelumnya dengan analisis akustik dalam R menggunakan paket gelombang laut dan tuneR, dengan rentang frekuensi yang dianalisis 0hz-280hz (rentang vokal manusia).\n",
        "#2 meanfreq: Float,\tsd: Float, Q25,\tQ75,\tIQR,\tskew,\tkurt,\tsp.ent,\tsfm\tmode,\tcentroid,\tmeanfun,\tminfun,\tmaxfun,\tmeandom,\tmindom,\tmaxdom,\tdfrange,\tmodindx: Float,\tmedian: Float, label: String.\t\n",
        "#3\n",
        "#CONNECT GOOGLE DRIVE\n",
        "from google.colab import drive\n",
        "# Import Library and Load File\n",
        "import pandas as pd\n",
        "import numpy as np\n",
        "import matplotlib.pyplot as plt\n",
        "import seaborn as sns\n",
        "import sklearn\n",
        "from sklearn import preprocessing as per\n",
        "drive.mount(\"/content/drive/\")\n",
        "df = pd.read_csv(\"/content/drive/My Drive/Dataset Voice/voice.csv\")\n",
        "\n",
        "#Hasil pembacaan dataset\n",
        "df.head() \n",
        "\n",
        "#Melakukan seleksi data\n",
        "df[10:15]\n",
        "\n",
        "#Melakukan seleksi sesuai dengan posisi row dan column\n",
        "df.iloc[:,0:13] \n",
        "\n",
        "#Mengetahui type data\n",
        "df.dtypes  \n",
        "\n",
        "#Cek nilai data\n",
        "df.describe() \n",
        "\n",
        "\n",
        "import numpy\n",
        "import matplotlib.pyplot as plt\n",
        "numpy.random.seed(2)\n",
        "\n",
        "x = numpy.random.normal(3, 1, 100)\n",
        "y = numpy.random.normal(150, 40, 100) / x\n",
        "\n",
        "plt.scatter(x, y)\n",
        "plt.show()\n",
        "\n",
        "train_x = x[:80]\n",
        "train_y = y[:80]\n",
        "\n",
        "test_x = x[80:]\n",
        "test_y = y[80:]\n",
        "plt.scatter(train_x, train_y)\n",
        "plt.show()\n",
        "\n",
        "import numpy\n",
        "import matplotlib.pyplot as plt\n",
        "numpy.random.seed(2)\n",
        "\n",
        "x = numpy.random.normal(3, 1, 100)\n",
        "y = numpy.random.normal(150, 40, 100) / x\n",
        "\n",
        "train_x = x[:80]\n",
        "train_y = y[:80]\n",
        "\n",
        "test_x = x[80:]\n",
        "test_y = y[80:]\n",
        "\n",
        "mymodel = numpy.poly1d(numpy.polyfit(train_x, train_y, 4))\n",
        "\n",
        "myline = numpy.linspace(0, 6, 100)\n",
        "\n",
        "plt.scatter(train_x, train_y)\n",
        "plt.plot(myline, mymodel(myline))\n",
        "plt.show()"
      ],
      "execution_count": null,
      "outputs": [
        {
          "output_type": "stream",
          "text": [
            "Mounted at /content/drive/\n"
          ],
          "name": "stdout"
        },
        {
          "output_type": "display_data",
          "data": {
            "image/png": "[encoded data removed]",
            "text/plain": [
              "<Figure size 432x288 with 1 Axes>"
            ]
          },
          "metadata": {
            "tags": [],
            "needs_background": "light"
          }
        },
        {
          "output_type": "display_data",
          "data": {
            "image/png": "[encoded data removed]",
            "text/plain": [
              "<Figure size 432x288 with 1 Axes>"
            ]
          },
          "metadata": {
            "tags": [],
            "needs_background": "light"
          }
        },
        {
          "output_type": "display_data",
          "data": {
            "image/png": "[encoded data removed]",
            "text/plain": [
              "<Figure size 432x288 with 1 Axes>"
            ]
          },
          "metadata": {
            "tags": [],
            "needs_background": "light"
          }
        }
      ]
    },
    {
      "cell_type": "markdown",
      "metadata": {
        "id": "M5Os9jJR5MGr"
      },
      "source": [
        "# **TOPIK: DATA PREPROCESSING FOR FORECASTING (B1)**"
      ]
    },
    {
      "cell_type": "markdown",
      "metadata": {
        "id": "vFIWf1Nw5Tyt"
      },
      "source": [
        "1. Berdasarkan data A1 yang sudah anda baca, jelaskan tujuan dari forecasting apa yang ingin dilakukan?\n",
        "\n",
        "2. jelaskan bagaimana cara mengatasi missing value, tuliskan dalam Python\n",
        "\n",
        "3. ubahlah format yang sesuai dengan tugas forecasting (misalkan nilai harus bernilai integer, dan kalimat harus bernilai string, dll), tuliskan dalam Python\n",
        "\n",
        "4. apakah perlu ada normalisasi pada dataset? jika iya, metode normalisasi apa yang anda gunakan? jelaskan pilihan anda, tuliskan dalam Python\n",
        "\n",
        "5. pisahkan dataset menjadi data latih dan data uji menggunakan Python sklearn train test split yang sebelumnya perlu dipisahkan terlebih dahulu variable X merupakan independent variable dan variable y merupakan dependent variable, tuliskan dalam Python\n"
      ]
    },
    {
      "cell_type": "code",
      "metadata": {
        "id": "wCFbL1o_5R2G",
        "colab": {
          "base_uri": "https://localhost:8080/"
        },
        "outputId": "86e49e7f-1e8b-4eef-abbe-6d0a5eb9688a"
      },
      "source": [
        "# 1). Forecasting yang saya lakukan adalah bertujuan untuk meramalkan atau memprediksi dataset A1 yang tadinya data preparation dan sudah saya ubah menjadi data forecasting agar nantinya dalam melakukan preprocessing data dapat mendapatkan hasil yang akurat.\n",
        "\n",
        "# Load Data\n",
        "toyota = pd.read_csv('/content/drive/My Drive/Dataset LKS Mercedes/toyota.csv')\n",
        "toyota.head() # berfungsi untuk menampilkan data yang ada dalam dataset\n",
        "\n",
        "# 2). mengatasi missing value dengan kode dibawah ini\n",
        "import pandas as pd\n",
        "missing_values = [\"n/a\", \"na\", \"--\", \"?\"]\n",
        "toyota = pd.read_csv('/content/drive/My Drive/Dataset LKS Mercedes/toyota.csv')\n",
        "\n",
        "# 3). Mengubah suatu tipe data ke tipe data yang lain (model, transmission, dan fuelType yang tadinya Object saya Ubah ke String)\n",
        "toyota[\"model\"] = toyota[\"model\"].astype(str)\n",
        "toyota[\"transmission\"] = toyota[\"transmission\"].astype(str)\n",
        "toyota[\"fuelType\"] = toyota[\"fuelType\"].astype(str)\n",
        "print(toyota)\n",
        "\n",
        "# 4). Normalisasi Data Menggunakan Z-Score\n",
        "# Metode ketiga adalah Z-score atau disebut juga standard score. Dengan formula ini, masing-masing nilai pada fitur dikurangi dengan miu (µ) yang merupakan nilai rata-rata fitur, kemudian dibagi dengan sigma (σ) yang merupakan standar deviasi.\n",
        "toyota[\"price\"] = (toyota[\"price\"] - toyota[\"price\"].mean()) / toyota[\"price\"].std()\n",
        "\n",
        "# 5). MEMISAHKAN ANTARA VARIABEL X DAN Y MENGGUNAKAN SKLEARN TRAIN TEST SPLIT\n",
        "from sklearn.model_selection import train_test_split\n",
        "\n",
        "# Running antara variabel X dan Y  menggunakan train_test_split\n",
        "x_train, x_test, y_train, y_test = train_test_split(X, Y, test_size=0.2, random_state=42)\n",
        "\n",
        "from sklearn.preprocessing import StandardScaler, OneHotEncoder\n",
        "\n",
        "scaler=StandardScaler()\n",
        "\n",
        "x_train= scaler.fit_transform(x_train[num_columns_no_label])\n",
        "x_test= scaler.transform(x_test[num_columns_no_label])\n",
        "\n",
        "# menghapus nilai yang masih mengandung missing value di colom price\n",
        "X=toyota2.drop(['price'], axis=1)\n",
        "Y=toyota2['price']\n",
        "\n",
        "# Running antara variabel X dan Y  menggunakan train_test_split\n",
        "x_train, x_test, y_train, y_test = train_test_split(X, Y, test_size=0.2, random_state=42)\n",
        "\n",
        "# Pemiihan model menggunakan LinearRegression Dan DecisionTreeRegressor\n",
        "from sklearn.linear_model import LinearRegression, Lasso\n",
        "from sklearn.tree import DecisionTreeRegressor\n",
        "\n",
        "# Running menggunakan model diatas\n",
        "lin_model = LinearRegression()\n",
        "lin_model.fit(x_train, y_train)\n",
        "lin_pred = lin_model.predict(x_test)\n",
        "\n",
        "# Memanggil accuracy variabel dari data train dan test  menggunakan fungsi lin_model.score\n",
        "print('Train Accuracy: %f' % lin_model.score(x_train, y_train))\n",
        "print('Test Accuracy: %f' % lin_model.score(x_test, y_test))"
      ],
      "execution_count": null,
      "outputs": [
        {
          "output_type": "stream",
          "text": [
            "               model  year  price transmission  ...  fuelType  tax   mpg  engineSize\n",
            "0               GT86  2016  16000       Manual  ...    Petrol  265  36.2         2.0\n",
            "1               GT86  2017  15995       Manual  ...    Petrol  145  36.2         2.0\n",
            "2               GT86  2015  13998       Manual  ...    Petrol  265  36.2         2.0\n",
            "3               GT86  2017  18998       Manual  ...    Petrol  150  36.2         2.0\n",
            "4               GT86  2017  17498       Manual  ...    Petrol  145  36.2         2.0\n",
            "...              ...   ...    ...          ...  ...       ...  ...   ...         ...\n",
            "6733              IQ  2011   5500    Automatic  ...    Petrol   20  58.9         1.0\n",
            "6734   Urban Cruiser  2011   4985       Manual  ...    Petrol  125  50.4         1.3\n",
            "6735   Urban Cruiser  2012   4995       Manual  ...    Diesel  125  57.6         1.4\n",
            "6736   Urban Cruiser  2011   3995       Manual  ...    Petrol  125  50.4         1.3\n",
            "6737   Urban Cruiser  2011   4495       Manual  ...    Petrol  125  50.4         1.3\n",
            "\n",
            "[6738 rows x 9 columns]\n",
            "Train Accuracy: 0.928142\n",
            "Test Accuracy: 0.926525\n"
          ],
          "name": "stdout"
        }
      ]
    },
    {
      "cell_type": "markdown",
      "metadata": {
        "id": "TPeOoFtb6q5A"
      },
      "source": [
        "# **TOPIK: DATA PREPROCESSING FOR CLUSTERING (B2)**"
      ]
    },
    {
      "cell_type": "markdown",
      "metadata": {
        "id": "09v8JFiv6x8M"
      },
      "source": [
        "1. Berdasarkan data A2 yang sudah anda baca, jelaskan tujuan dari forecasting apa yang ingin dilakukan?\n",
        "\n",
        "2. jelaskan bagaimana cara mengatasi missing value, tuliskan dalam Python\n",
        "\n",
        "3. ubahlah format yang sesuai dengan tugas clustering (misalkan nilai harus bernilai integer, dan kalimat harus bernilai string, dll) atau tugas lainnya.. tuliskan dalam Python\n",
        "\n",
        "4. apakah perlu ada normalisasi pada dataset? jika iya, metode normalisasi apa yang anda gunakan? jelaskan pilihan anda, tuliskan dalam Python\n",
        "\n",
        "5. pisahkan dataset menjadi data latih dan data uji menggunakan Python sklearn train test split yang sebelumnya perlu dipisahkan terlebih dahulu variable X merupakan independent variable dan variable y merupakan dependent variable, tuliskan dalam Python\n"
      ]
    },
    {
      "cell_type": "code",
      "metadata": {
        "id": "sQRfeDoG8Znc",
        "colab": {
          "base_uri": "https://localhost:8080/"
        },
        "outputId": "32d8cd9a-dcce-4313-9681-8411d3980abf"
      },
      "source": [
        "# 1). Forecasting yang saya lakukan adalah bertujuan untuk meramalkan atau memprediksi dataset A2 yang tadinya data preparation dan sudah saya ubah menjadi data Clustering agar nantinya dalam melakukan preprocessing data dapat mendapatkan hasil yang akurat dan sesuai dataset yang sudah diolah saya.\n",
        "\n",
        "# Load Data (LKS Mall Customer Segmentation Data/Mall_Customers.csv)\n",
        "mall_customers = pd.read_csv('/content/drive/My Drive/LKS Mall Customer Segmentation Data/Mall_Customers.csv')\n",
        "mall_customers.head() # berfungsi untuk menampilkan data yang ada dalam dataset\n",
        "\n",
        "# 2). Mengatasi Missin Value \n",
        "import pandas as pd\n",
        "missing_values = [\"n/a\", \"na\", \"--\", \"?\"]\n",
        "mall_customers = pd.read_csv('/content/drive/My Drive/LKS Mall Customer Segmentation Data/Mall_Customers.csv')\n",
        "\n",
        "# 3). # Mengubah suatu tipe data ke tipe data yang lain (Gender yang tadinya Object saya Ubah ke String)\n",
        "mall_customers[\"Gender\"] = mall_customers[\"Gender\"].astype(str)\n",
        "print(mall_customers)\n",
        "\n",
        "# 4). Normalisasi Data Menggunakan Z-Score\n",
        "# Metode ketiga adalah Z-score atau disebut juga standard score. Dengan formula ini, masing-masing nilai pada fitur dikurangi dengan miu (µ) yang merupakan nilai rata-rata fitur, kemudian dibagi dengan sigma (σ) yang merupakan standar deviasi.\n",
        "# mall_customers[\"Annualncome(k$)\"] = (mall_customers[\"Annualncome(k$)\"] - mall_customers[\"Annualncome(k$)\"].mean()) / mall_customers[\"AnnualIncome(k$)\"].std()\n",
        "\n",
        "# 5). MEMISAHKAN ANTARA VARIABEL X DAN Y MENGGUNAKAN SKLEARN TRAIN TEST SPLIT\n",
        "from sklearn.model_selection import train_test_split\n",
        "\n",
        "# Running antara variabel X dan Y  menggunakan train_test_split\n",
        "x_train, x_test, y_train, y_test = train_test_split(X, Y, test_size=0.2, random_state=42)\n",
        "\n",
        "from sklearn.preprocessing import StandardScaler, OneHotEncoder\n",
        "\n",
        "scaler=StandardScaler()\n",
        "\n",
        "x_train= scaler.fit_transform(x_train[num_columns_no_label])\n",
        "x_test= scaler.transform(x_test[num_columns_no_label])\n",
        "\n",
        "# Running antara variabel X dan Y  menggunakan train_test_split\n",
        "x_train, x_test, y_train, y_test = train_test_split(X, Y, test_size=0.2, random_state=42)\n",
        "\n",
        "# Pemiihan model menggunakan LinearRegression Dan DecisionTreeRegressor\n",
        "from sklearn.linear_model import LinearRegression, Lasso\n",
        "from sklearn.tree import DecisionTreeRegressor\n",
        "\n",
        "# Running menggunakan model diatas\n",
        "lin_model = LinearRegression()\n",
        "lin_model.fit(x_train, y_train)\n",
        "lin_pred = lin_model.predict(x_test)\n",
        "\n",
        "# Memanggil accuracy variabel dari data train dan test  menggunakan fungsi lin_model.score\n",
        "print('Train Accuracy: %f' % lin_model.score(x_train, y_train))\n",
        "print('Test Accuracy: %f' % lin_model.score(x_test, y_test))"
      ],
      "execution_count": null,
      "outputs": [
        {
          "output_type": "stream",
          "text": [
            "     CustomerID  Gender  Age  Annual Income (k$)  Spending Score (1-100)\n",
            "0             1    Male   19                  15                      39\n",
            "1             2    Male   21                  15                      81\n",
            "2             3  Female   20                  16                       6\n",
            "3             4  Female   23                  16                      77\n",
            "4             5  Female   31                  17                      40\n",
            "..          ...     ...  ...                 ...                     ...\n",
            "195         196  Female   35                 120                      79\n",
            "196         197  Female   45                 126                      28\n",
            "197         198    Male   32                 126                      74\n",
            "198         199    Male   32                 137                      18\n",
            "199         200    Male   30                 137                      83\n",
            "\n",
            "[200 rows x 5 columns]\n",
            "Train Accuracy: 0.928142\n",
            "Test Accuracy: 0.926525\n"
          ],
          "name": "stdout"
        }
      ]
    },
    {
      "cell_type": "markdown",
      "metadata": {
        "id": "p5DRSlEd8Ufw"
      },
      "source": [
        "# **TOPIK: DATA PREPROCESSING FOR CLASSIFICATION (B3)**"
      ]
    },
    {
      "cell_type": "markdown",
      "metadata": {
        "id": "tnMjRZRT8jwe"
      },
      "source": [
        "1. Berdasarkan data A3 yang sudah anda baca, jelaskan tujuan dari forecasting apa yang ingin dilakukan?\n",
        "\n",
        "2. jelaskan bagaimana cara mengatasi missing value, tuliskan dalam Python\n",
        "\n",
        "3. ubahlah format yang sesuai dengan tugas classification (misalkan nilai harus bernilai integer, dan kalimat harus bernilai string, dll) atau tugas lainnya.. tuliskan dalam Python\n",
        "\n",
        "4. apakah perlu ada normalisasi pada dataset? jika iya, metode normalisasi apa yang anda gunakan? jelaskan pilihan anda, tuliskan dalam Python\n",
        "\n",
        "5. pisahkan dataset menjadi data latih dan data uji menggunakan Python sklearn train test split yang sebelumnya perlu dipisahkan terlebih dahulu variable X merupakan independent variable dan variable y merupakan dependent variable, tuliskan dalam Python\n"
      ]
    },
    {
      "cell_type": "code",
      "metadata": {
        "colab": {
          "base_uri": "https://localhost:8080/",
          "height": 1000
        },
        "id": "N_ne4N4RgLDZ",
        "outputId": "286769a8-0180-49c5-e3d1-dc3a8b3e34ce"
      },
      "source": [
        "#MASUKAN JAWABAN B3 disini (jika jawaban merupakan isian, gunakan comment Python #\n",
        "#1 perkiraan atau forecasting terlihat pada saat pengambilan keputusan. Keputusan yang baik adalah keputusan yang didasarkan atas pertimbangan apa yang akan terjadi pada waktu keputusan itu dilaksanakan.\n",
        "# perkiraan atau forecasting memiliki tujuan sebagai berikut:\n",
        "  #a. untuk mengidentifikasi suara sebagai pria atau wanita, berdasarkan properti akustik suara dan ucapan.\n",
        "  #b. Perkiraan diperlukan karena adanya dua suara, diantaranya ada suara pria dan wanita.\n",
        "  #c. Dataset terdiri dari 3.168 sampel suara yang direkam,n wan dikumpulkan dari pembicara pria dan wanita. Sampel suara diproses sebelumnya dengan analisis akustik dalam R menggunakan paket gelombang laut dan tuneR, dengan rentang frekuensi yang dianalisis 0hz-280hz (rentang vokal manusia).\n",
        "#2\n",
        "df.head() #Hasil pembacaan dataset\n",
        "\n",
        "# Untuk mengetahui data tersebut\n",
        "df.info() \n",
        "\n",
        "# Cetak statistik data\n",
        "df.describe().T \n",
        "\n",
        "# Mencetak hitungan nilai yang hilang w.r.t setiap fitur dalam full_df\n",
        "df.isna().sum()                    \n",
        "\n",
        "# Analisis variabel target\n",
        "plt.figure(figsize=(9,6))\n",
        "sns.countplot(x='label', data=df, order=[\"male\", \"female\"] )\n",
        "\n",
        "# Mencetak jumlah kelas yang berbeda di 'label'\n",
        "df['label'].value_counts()       \n",
        "\n",
        "plt.subplots(4,5,figsize=(20,30))\n",
        "for i in range(1,21):\n",
        "    plt.subplot(4,5,i)\n",
        "    plt.title(df.columns[i-1])\n",
        "    sns.kdeplot(df.loc[df['label'] == 0, df.columns[i-1]], color= 'red', label='female')\n",
        "    sns.kdeplot(df.loc[df['label'] == 1, df.columns[i-1]], color= 'brown', label='male')\n",
        "\n",
        "#3 Tugas clustering \n",
        "import numpy as np\n",
        "from sklearn import preprocessing\n",
        "label_kategori = ['meanfreq',\t'sd',\t'median',\t'Q25',\t'Q75',\t'IQR',\t'skew',\t'kurt',\t'sp.ent',\t'sfm\tmode',\t'centroid',\t'meanfun',\t'minfun',\t'maxfun',\t'meandom\tmindom',\t'maxdom',\t'dfrange',\t'modindx',\t'label']\n",
        "encoder = preprocessing.LabelEncoder()\n",
        "encoder.fit(label_kategori)\n",
        "\n",
        "print(\"\\nLabel mapping:\")\n",
        "for i, item in enumerate(encoder.classes_):\n",
        "    print(item, '>', i)\n",
        "\n",
        "#4 Normalisasi data? Iya perlu. Dan yang saya gunakan yaitu normalisasi data Z-score atau disebut juga standard score. Dengan formula ini, masing-masing nilai pada fitur dikurangi dengan miu yang merupakan nilai rata-rata fitur, kemudian dibagi dengan sigma yang merupakan standar deviasi.\n",
        "df[\"sd\"] = (df[\"sd\"] - df[\"sd\"].mean()) / df[\"sd\"].std()\n",
        "df[\"meanfreq\"] = (df[\"meanfreq\"] - df[\"meanfreq\"].mean()) / df[\"meanfreq\"].std()\n",
        "df.head()\n",
        "\n",
        "#5 Memisahkan training dengan testing\n",
        "from sklearn.metrics import confusion_matrix\n",
        "from sklearn.metrics import classification_report\n",
        "from sklearn.model_selection import train_test_split\n",
        "import numpy as np # linear algebra\n",
        "import pandas as pd # data processing, CSV file I/O (e.g. pd.read_csv)\n",
        "import seaborn as sns\n",
        "import matplotlib.pyplot as plt\n",
        "# Seperating the data into dependent and independent variables\n",
        "X = df.iloc[:, :-1].values\n",
        "y = df.iloc[:, -1].values\n",
        "\n",
        "# Splitting the dataset into the Training set and Test set\n",
        "X_train, X_test, y_train, y_test = train_test_split(X, y, test_size = 0.2, random_state = 0)\n",
        "X_test\n",
        "\n",
        "# Mencetak data X_test\n",
        "print(X_test) \n",
        "\n",
        "# Mencetak data y_train\n",
        "print(y_test) "
      ],
      "execution_count": null,
      "outputs": [
        {
          "output_type": "stream",
          "text": [
            "<class 'pandas.core.frame.DataFrame'>\n",
            "RangeIndex: 3168 entries, 0 to 3167\n",
            "Data columns (total 21 columns):\n",
            " #   Column    Non-Null Count  Dtype  \n",
            "---  ------    --------------  -----  \n",
            " 0   meanfreq  3168 non-null   float64\n",
            " 1   sd        3168 non-null   float64\n",
            " 2   median    3168 non-null   float64\n",
            " 3   Q25       3168 non-null   float64\n",
            " 4   Q75       3168 non-null   float64\n",
            " 5   IQR       3168 non-null   float64\n",
            " 6   skew      3168 non-null   float64\n",
            " 7   kurt      3168 non-null   float64\n",
            " 8   sp.ent    3168 non-null   float64\n",
            " 9   sfm       3168 non-null   float64\n",
            " 10  mode      3168 non-null   float64\n",
            " 11  centroid  3168 non-null   float64\n",
            " 12  meanfun   3168 non-null   float64\n",
            " 13  minfun    3168 non-null   float64\n",
            " 14  maxfun    3168 non-null   float64\n",
            " 15  meandom   3168 non-null   float64\n",
            " 16  mindom    3168 non-null   float64\n",
            " 17  maxdom    3168 non-null   float64\n",
            " 18  dfrange   3168 non-null   float64\n",
            " 19  modindx   3168 non-null   float64\n",
            " 20  label     3168 non-null   object \n",
            "dtypes: float64(20), object(1)\n",
            "memory usage: 519.9+ KB\n",
            "\n",
            "Label mapping:\n",
            "IQR > 0\n",
            "Q25 > 1\n",
            "Q75 > 2\n",
            "centroid > 3\n",
            "dfrange > 4\n",
            "kurt > 5\n",
            "label > 6\n",
            "maxdom > 7\n",
            "maxfun > 8\n",
            "meandom\tmindom > 9\n",
            "meanfreq > 10\n",
            "meanfun > 11\n",
            "median > 12\n",
            "minfun > 13\n",
            "modindx > 14\n",
            "sd > 15\n",
            "sfm\tmode > 16\n",
            "skew > 17\n",
            "sp.ent > 18\n",
            "[[ 0.48055672 -1.16879761  0.19572816 ...  7.4296875   7.2890625\n",
            "   0.09409376]\n",
            " [-0.04735239  0.19822116  0.1815235  ...  4.546875    4.5234375\n",
            "   0.11371693]\n",
            " [ 1.36009765 -1.77758789  0.22067797 ...  4.125       3.9140625\n",
            "   0.10689732]\n",
            " ...\n",
            " [-0.77973126  1.35549169  0.14780059 ...  4.9609375   4.953125\n",
            "   0.10949001]\n",
            " [ 0.8738377  -1.05627323  0.20566372 ...  8.71875     8.6953125\n",
            "   0.08035259]\n",
            " [-0.66017728 -0.20846715  0.16872908 ...  0.22949219  0.06347656\n",
            "   0.16239316]]\n",
            "['female' 'male' 'female' 'female' 'male' 'male' 'female' 'female' 'male'\n",
            " 'female' 'male' 'female' 'female' 'male' 'male' 'female' 'female' 'male'\n",
            " 'male' 'female' 'female' 'male' 'male' 'female' 'female' 'male' 'female'\n",
            " 'female' 'female' 'male' 'female' 'female' 'male' 'male' 'male' 'female'\n",
            " 'male' 'female' 'male' 'male' 'male' 'female' 'female' 'male' 'female'\n",
            " 'male' 'male' 'female' 'male' 'female' 'male' 'male' 'male' 'male' 'male'\n",
            " 'female' 'female' 'female' 'female' 'male' 'male' 'male' 'female' 'male'\n",
            " 'male' 'female' 'female' 'male' 'female' 'female' 'male' 'male' 'male'\n",
            " 'male' 'male' 'female' 'male' 'male' 'male' 'female' 'female' 'male'\n",
            " 'male' 'female' 'male' 'male' 'female' 'female' 'male' 'male' 'female'\n",
            " 'male' 'female' 'male' 'female' 'female' 'male' 'male' 'male' 'female'\n",
            " 'female' 'male' 'male' 'female' 'male' 'male' 'female' 'male' 'male'\n",
            " 'female' 'female' 'male' 'female' 'male' 'female' 'female' 'male' 'male'\n",
            " 'female' 'male' 'female' 'male' 'female' 'female' 'female' 'male'\n",
            " 'female' 'male' 'male' 'female' 'male' 'female' 'female' 'female'\n",
            " 'female' 'female' 'female' 'female' 'female' 'male' 'female' 'female'\n",
            " 'male' 'male' 'female' 'male' 'male' 'female' 'female' 'male' 'female'\n",
            " 'male' 'female' 'female' 'male' 'female' 'male' 'female' 'male' 'female'\n",
            " 'male' 'female' 'female' 'male' 'male' 'male' 'male' 'female' 'male'\n",
            " 'female' 'female' 'male' 'female' 'male' 'female' 'male' 'female'\n",
            " 'female' 'male' 'female' 'female' 'female' 'female' 'male' 'female'\n",
            " 'female' 'female' 'female' 'female' 'male' 'male' 'female' 'female'\n",
            " 'female' 'male' 'male' 'male' 'male' 'female' 'male' 'male' 'male'\n",
            " 'female' 'female' 'female' 'female' 'male' 'male' 'male' 'female'\n",
            " 'female' 'female' 'male' 'male' 'male' 'male' 'female' 'male' 'male'\n",
            " 'male' 'female' 'female' 'female' 'male' 'male' 'female' 'male' 'female'\n",
            " 'male' 'male' 'male' 'male' 'female' 'male' 'male' 'male' 'male' 'female'\n",
            " 'male' 'male' 'female' 'female' 'male' 'female' 'male' 'male' 'male'\n",
            " 'female' 'male' 'male' 'female' 'male' 'male' 'male' 'male' 'male'\n",
            " 'female' 'male' 'male' 'male' 'female' 'male' 'male' 'male' 'female'\n",
            " 'male' 'female' 'female' 'female' 'female' 'male' 'female' 'female'\n",
            " 'female' 'female' 'male' 'female' 'female' 'female' 'female' 'female'\n",
            " 'female' 'male' 'female' 'male' 'female' 'male' 'male' 'male' 'male'\n",
            " 'female' 'female' 'male' 'male' 'female' 'male' 'female' 'male' 'female'\n",
            " 'male' 'male' 'female' 'male' 'male' 'male' 'male' 'male' 'female' 'male'\n",
            " 'male' 'male' 'female' 'male' 'male' 'male' 'female' 'male' 'male' 'male'\n",
            " 'male' 'male' 'female' 'female' 'female' 'female' 'female' 'female'\n",
            " 'male' 'female' 'male' 'male' 'male' 'male' 'male' 'female' 'male'\n",
            " 'female' 'female' 'male' 'male' 'female' 'male' 'male' 'male' 'female'\n",
            " 'male' 'male' 'male' 'male' 'female' 'male' 'male' 'male' 'female'\n",
            " 'female' 'male' 'male' 'female' 'male' 'female' 'male' 'female' 'male'\n",
            " 'female' 'female' 'male' 'female' 'female' 'male' 'female' 'male' 'male'\n",
            " 'male' 'male' 'male' 'female' 'female' 'male' 'female' 'female' 'male'\n",
            " 'male' 'male' 'male' 'female' 'female' 'female' 'male' 'female' 'male'\n",
            " 'female' 'female' 'female' 'female' 'male' 'female' 'male' 'female'\n",
            " 'male' 'male' 'female' 'female' 'male' 'male' 'male' 'male' 'male' 'male'\n",
            " 'male' 'male' 'male' 'male' 'male' 'female' 'male' 'female' 'female'\n",
            " 'female' 'female' 'male' 'female' 'female' 'male' 'female' 'male'\n",
            " 'female' 'female' 'female' 'female' 'female' 'male' 'female' 'female'\n",
            " 'male' 'male' 'male' 'female' 'female' 'female' 'male' 'female' 'male'\n",
            " 'female' 'female' 'female' 'male' 'female' 'female' 'male' 'male'\n",
            " 'female' 'female' 'female' 'male' 'male' 'male' 'female' 'male' 'male'\n",
            " 'male' 'male' 'male' 'male' 'male' 'female' 'male' 'female' 'male'\n",
            " 'female' 'male' 'female' 'male' 'female' 'male' 'male' 'female' 'female'\n",
            " 'female' 'female' 'male' 'female' 'female' 'female' 'male' 'male'\n",
            " 'female' 'male' 'male' 'female' 'female' 'male' 'male' 'male' 'female'\n",
            " 'female' 'female' 'male' 'male' 'male' 'male' 'female' 'female' 'female'\n",
            " 'male' 'female' 'female' 'female' 'female' 'female' 'male' 'male'\n",
            " 'female' 'male' 'male' 'female' 'female' 'female' 'female' 'male'\n",
            " 'female' 'male' 'male' 'male' 'male' 'female' 'male' 'female' 'female'\n",
            " 'female' 'male' 'male' 'female' 'male' 'male' 'female' 'female' 'female'\n",
            " 'male' 'female' 'male' 'male' 'female' 'female' 'male' 'female' 'male'\n",
            " 'male' 'male' 'male' 'female' 'male' 'female' 'female' 'male' 'male'\n",
            " 'female' 'male' 'female' 'male' 'female' 'female' 'female' 'female'\n",
            " 'female' 'male' 'male' 'female' 'female' 'female' 'female' 'male'\n",
            " 'female' 'male' 'male' 'male' 'female' 'male' 'male' 'female' 'male'\n",
            " 'male' 'male' 'female' 'female' 'female' 'male' 'female' 'male' 'male'\n",
            " 'male' 'male' 'male' 'male' 'male' 'female' 'male' 'female' 'female'\n",
            " 'male' 'male' 'male' 'male' 'female' 'male' 'female' 'male' 'male' 'male'\n",
            " 'male' 'male' 'female' 'female' 'female' 'female' 'female' 'male' 'male'\n",
            " 'male' 'female' 'male' 'male' 'female' 'male' 'female' 'male' 'male'\n",
            " 'female' 'female' 'female' 'male' 'female' 'male' 'female' 'female']\n"
          ],
          "name": "stdout"
        },
        {
          "output_type": "display_data",
          "data": {
            "image/png": "[encoded data removed]",
            "text/plain": [
              "<Figure size 648x432 with 1 Axes>"
            ]
          },
          "metadata": {
            "tags": [],
            "needs_background": "light"
          }
        },
        {
          "output_type": "display_data",
          "data": {
            "image/png": "[encoded data removed]",
            "text/plain": [
              "<Figure size 1440x2160 with 20 Axes>"
            ]
          },
          "metadata": {
            "tags": [],
            "needs_background": "light"
          }
        }
      ]
    },
    {
      "cell_type": "markdown",
      "metadata": {
        "id": "KXwAwXqwhMOT"
      },
      "source": [
        ""
      ]
    },
    {
      "cell_type": "markdown",
      "metadata": {
        "id": "dcQwR8Qm8yBU"
      },
      "source": [
        "# **TOPIK: DATA DEPENDENCY VISUALIZATION (C1)**"
      ]
    },
    {
      "cell_type": "markdown",
      "metadata": {
        "id": "pZ_VTGn3843R"
      },
      "source": [
        "1. pada dataset A1 dan B1, identifikasi korelasi antara feature (independent variable) dan dependent variable dengan matrix korelasi, tuliskan dalam Python\n",
        "2. pada no.1, bagian mana yang memiiki korelasi yang kuat, jelaskan alasan nya\n",
        "3. gambarkan visualisasi dari feature\n",
        "4. gambarkan visualisasi dari class label\n",
        "5. gambarkan visualisasi dari atribut\n",
        "6. gambarkan visualisasi dari aliran data"
      ]
    },
    {
      "cell_type": "code",
      "metadata": {
        "id": "IZ94WwZU94QH",
        "colab": {
          "base_uri": "https://localhost:8080/",
          "height": 578
        },
        "outputId": "21b9954f-53e0-4bcb-f056-bd803efda13c"
      },
      "source": [
        "# 1). mengidentifikasi dataset A1 dan B1 dan dikorelasikan antara feature (independent variable) dan dependent variable dengan matrix korelasi.\n",
        "\n",
        "# Load Data dan Import Library\n",
        "import matplotlib\n",
        "import numpy as np\n",
        "import matplotlib.pyplot as plt\n",
        "%matplotlib inline\n",
        "toyota = pd.read_csv('/content/drive/My Drive/Dataset LKS Mercedes/toyota.csv')\n",
        "\n",
        "# Memisahkan toyota menjadi data dan label\n",
        "data = toyota.drop('model',axis=1)\n",
        "label = toyota['model']\n",
        "\n",
        "# Memisahkan toyota menjadi data latihan dan data tes\n",
        "from sklearn.model_selection import train_test_split\n",
        "x_train, x_test, y_train, y_test = train_test_split(data,label,test_size=0.2)\n",
        "\n",
        "# Print toyota.shape untuk mengetahui bentuk dataframe\n",
        "print(x_train.shape,y_train.shape)\n",
        "print(x_test.shape,y_test.shape)\n",
        "\n",
        "# 2). Correlasi Matrix  terkuat adalah data x_train dengan nilai 5390\n",
        "\n",
        "# Jawaban dari soal nomor 3 sampai 6 ada di kode bawah ini:\n",
        " # correlation matrix 1\n",
        "def correlation_matrix(toyota):\n",
        "    from matplotlib import pyplot as plt\n",
        "    from matplotlib import cm as cm\n",
        "\n",
        "    fig = plt.figure()\n",
        "    ax1 = fig.add_subplot(111)\n",
        "    cmap = cm.get_cmap('jet', 30)\n",
        "    cax = ax1.imshow(toyota.corr(), interpolation=\"nearest\", cmap=cmap)\n",
        "    ax1.grid(True)\n",
        "    plt.title('Toyota Correlation') # judul\n",
        "    labels=['model', 'transmission', 'fuelType','year', 'price', 'mileage', 'tax', 'mpg', 'engineSize'] # visualisasi dari class label\n",
        "    ax1.set_xticklabels(labels,fontsize=8)\n",
        "    ax1.set_yticklabels(labels,fontsize=8)\n",
        "    # Add colorbar, make sure to specify tick locations to match desired ticklabels\n",
        "    fig.colorbar(cax, ticks=[])\n",
        "    plt.show()\n",
        "\n",
        "correlation_matrix(toyota)\n",
        "\n",
        "# correlation matrix 2\n",
        "import seaborn as sns\n",
        "%matplotlib inline\n",
        "\n",
        "# calculate the correlation matrix\n",
        "corr = toyota.corr()\n",
        "\n",
        "# plot the heatmap\n",
        "sns.heatmap(corr, \n",
        "        xticklabels=corr.columns,\n",
        "        yticklabels=corr.columns)"
      ],
      "execution_count": null,
      "outputs": [
        {
          "output_type": "stream",
          "text": [
            "(5390, 8) (5390,)\n",
            "(1348, 8) (1348,)\n"
          ],
          "name": "stdout"
        },
        {
          "output_type": "display_data",
          "data": {
            "image/png": "[encoded data removed]",
            "text/plain": [
              "<Figure size 432x288 with 2 Axes>"
            ]
          },
          "metadata": {
            "tags": [],
            "needs_background": "light"
          }
        },
        {
          "output_type": "execute_result",
          "data": {
            "text/plain": [
              "<matplotlib.axes._subplots.AxesSubplot at 0x7f44dba0f510>"
            ]
          },
          "metadata": {
            "tags": []
          },
          "execution_count": 156
        },
        {
          "output_type": "display_data",
          "data": {
            "image/png": "[encoded data removed]",
            "text/plain": [
              "<Figure size 432x288 with 2 Axes>"
            ]
          },
          "metadata": {
            "tags": [],
            "needs_background": "light"
          }
        }
      ]
    },
    {
      "cell_type": "markdown",
      "metadata": {
        "id": "X2AsLmYb91cW"
      },
      "source": [
        "# **TOPIK: DATA FORECASTING (D1)**"
      ]
    },
    {
      "cell_type": "markdown",
      "metadata": {
        "id": "lwSpsV6k9633"
      },
      "source": [
        "1. Berdasarkan data A1, tentukan feature yang akan digunakan\n",
        "2. Buatlah rencana plan forecasting\n",
        "3. Interpretasikan data menuju variable yang dapat digunakan\n",
        "4. apakah dataset ini cocok untuk forecasting?\n",
        "5. analisa atribut yang memiliki korelasi tinggi?\n",
        "6. pilih feature yang digunakan untuk forecasting\n",
        "7. pilih algoritma forecasting yang tepat\n",
        "8. pilih Hyperparameter yang tepat\n",
        "9. analisa dataset secara sederhana\n",
        "10. analisa performa dari forecasting\n",
        "11. analisa akurasi dari forecasting\n",
        "12. analisa f-measure dengan sklearn"
      ]
    },
    {
      "cell_type": "code",
      "metadata": {
        "id": "kymHmmGL-NMu",
        "colab": {
          "base_uri": "https://localhost:8080/"
        },
        "outputId": "c19c0954-fa92-4a4c-a9b0-224915ccad40"
      },
      "source": [
        "# 1). saya akan menggunakan important features (D1)\n",
        "# 2). Disini saya akan membuat rencana untuk dataset forecasting saya bisa memiliki suatu data ataupun nilai yang akurat dan rencana semua itu akan saya praktekkan menggunakan kode python dibawah ini\n",
        "# Based on https://www.kaggle.com/benhamner/d/uciml/iris/python-data-visualizations/notebook\n",
        "# First, we'll import pandas, a data processing and CSV file I/O library\n",
        "import pandas as pd\n",
        "import numpy as np\n",
        "from sklearn.feature_selection import SelectPercentile\n",
        "from sklearn.feature_selection import f_classif,chi2\n",
        "from sklearn.preprocessing import Binarizer, scale\n",
        "\n",
        "# We'll also import seaborn, a Python graphing library\n",
        "import warnings # current version of seaborn generates a bunch of warnings that we'll ignore\n",
        "warnings.filterwarnings(\"ignore\")\n",
        "import seaborn as sns\n",
        "\n",
        "import matplotlib.pyplot as plt\n",
        "sns.set(style=\"white\", color_codes=True)\n",
        "\n",
        "# Jawaban soal nomor 3\n",
        "# Next, we'll load the train and test dataset, which is in the \"../input/\" directory\n",
        "train = pd.read_csv('/content/drive/My Drive/Dataset LKS Mercedes/toyota.csv') # the train dataset is now a Pandas DataFrame\n",
        "test = pd.read_csv('/content/drive/My Drive/Dataset LKS Mercedes/toyota_test.csv') # the test dataset is now a Pandas DataFrame\n",
        "\n",
        "# Let's see what's in the trainings data - Jupyter notebooks print the result of the last thing you do\n",
        "train.head()\n",
        "\n",
        "# Press shift+enter to execute this cell\n",
        "\n",
        "from sklearn.model_selection import train_test_split\n",
        "\n",
        "# Running antara variabel X dan Y  menggunakan train_test_split\n",
        "x_train, x_test, y_train, y_test = train_test_split(X, Y, test_size=0.2, random_state=42)\n",
        "\n",
        "from sklearn.preprocessing import StandardScaler, OneHotEncoder\n",
        "\n",
        "scaler=StandardScaler()\n",
        "\n",
        "x_train= scaler.fit_transform(x_train[num_columns_no_label])\n",
        "x_test= scaler.transform(x_test[num_columns_no_label])\n",
        "\n",
        "# menghapus nilai yang mengandung missing value di colom price\n",
        "X=toyota2.drop(['price'], axis=1)\n",
        "Y=toyota2['price']\n",
        "\n",
        "# Running antara variabel X dan Y  menggunakan train_test_split\n",
        "x_train, x_test, y_train, y_test = train_test_split(X, Y, test_size=0.2, random_state=42)\n",
        "\n",
        "# Pemiihan model menggunakan LinearRegression Dan DecisionTreeRegressor\n",
        "from sklearn.linear_model import LinearRegression, Lasso\n",
        "from sklearn.tree import DecisionTreeRegressor\n",
        "\n",
        "# Running menggunakan model diatas\n",
        "lin_model = LinearRegression()\n",
        "lin_model.fit(x_train, y_train)\n",
        "lin_pred = lin_model.predict(x_test)\n",
        "\n",
        "# Memanggil accuracy variabel dari data train dan test  menggunakan fungsi lin_model.score\n",
        "print('Train Accuracy: %f' % lin_model.score(x_train, y_train))\n",
        "print('Test Accuracy: %f' % lin_model.score(x_test, y_test))"
      ],
      "execution_count": null,
      "outputs": [
        {
          "output_type": "stream",
          "text": [
            "Train Accuracy: 0.928142\n",
            "Test Accuracy: 0.926525\n"
          ],
          "name": "stdout"
        }
      ]
    },
    {
      "cell_type": "markdown",
      "metadata": {
        "id": "ioK2RH8S_aRJ"
      },
      "source": [
        "# **TOPIK: DATA CLUSTERING (E1)**"
      ]
    },
    {
      "cell_type": "markdown",
      "metadata": {
        "id": "yg0Lp3IT_evT"
      },
      "source": [
        "1. Berdasarkan data A2, tentukan feature yang akan digunakan\n",
        "2. Buatlah rencana plan clustering\n",
        "3. Interpretasikan data menuju variable yang dapat digunakan\n",
        "4. apakah dataset ini cocok untuk clustering?\n",
        "5. analisa atribut yang memiliki korelasi tinggi?\n",
        "6. pilih feature yang digunakan untuk clustering\n",
        "7. pilih algoritma clustering yang tepat\n",
        "8. pilih Hyperparameter yang tepat\n",
        "9. analisa dataset secara sederhana\n",
        "10. analisa homogenity dari clustering\n",
        "11. analisa heterogenity dari clustering\n",
        "12. analisa kualitas clustering dengan sklearn"
      ]
    },
    {
      "cell_type": "code",
      "metadata": {
        "id": "TgAg0pyi_t5N",
        "colab": {
          "base_uri": "https://localhost:8080/"
        },
        "outputId": "7db88008-4953-49a8-d470-4911becaec88"
      },
      "source": [
        "# 1). saya akan menggunakan important features (D1)\n",
        "# 2). Disini saya akan membuat rencana untuk dataset forecasting saya bisa memiliki suatu data ataupun nilai yang akurat dan rencana semua itu akan saya praktekkan menggunakan kode python dibawah ini\n",
        "# Based on https://www.kaggle.com/benhamner/d/uciml/iris/python-data-visualizations/notebook\n",
        "# First, we'll import pandas, a data processing and CSV file I/O library\n",
        "import pandas as pd\n",
        "import numpy as np\n",
        "from sklearn.feature_selection import SelectPercentile\n",
        "from sklearn.feature_selection import f_classif,chi2\n",
        "from sklearn.preprocessing import Binarizer, scale\n",
        "\n",
        "# We'll also import seaborn, a Python graphing library\n",
        "import warnings # current version of seaborn generates a bunch of warnings that we'll ignore\n",
        "warnings.filterwarnings(\"ignore\")\n",
        "import seaborn as sns\n",
        "\n",
        "import matplotlib.pyplot as plt\n",
        "sns.set(style=\"white\", color_codes=True)\n",
        "\n",
        "# Jawaban soal nomor 3\n",
        "# Next, we'll load the train and test dataset, which is in the \"../input/\" directory\n",
        "train_mall_customers = pd.read_csv('/content/drive/My Drive/LKS Mall Customer Segmentation Data/Mall_Customers.csv')\n",
        " # the train dataset is now a Pandas DataFrame\n",
        "test_mall_customers = pd.read_csv('/content/drive/My Drive/LKS Mall Customer Segmentation Data/Mall_Customers.csv')\n",
        "# the test dataset is now a Pandas DataFrame\n",
        "\n",
        "# Let's see what's in the trainings data - Jupyter notebooks print the result of the last thing you do\n",
        "train_mall_customers.head()\n",
        "\n",
        "# Press shift+enter to execute this cell\n",
        "\n",
        "from sklearn.model_selection import train_test_split\n",
        "\n",
        "# Running antara variabel X dan Y  menggunakan train_test_split\n",
        "x_train, x_test, y_train, y_test = train_test_split(X, Y, test_size=0.2, random_state=42)\n",
        "\n",
        "from sklearn.preprocessing import StandardScaler, OneHotEncoder\n",
        "\n",
        "scaler=StandardScaler()\n",
        "\n",
        "x_train= scaler.fit_transform(x_train[num_columns_no_label])\n",
        "x_test= scaler.transform(x_test[num_columns_no_label])\n",
        "\n",
        "# Running antara variabel X dan Y  menggunakan train_test_split\n",
        "x_train, x_test, y_train, y_test = train_test_split(X, Y, test_size=0.2, random_state=42)\n",
        "\n",
        "# Pemiihan model menggunakan LinearRegression Dan DecisionTreeRegressor\n",
        "from sklearn.linear_model import LinearRegression, Lasso\n",
        "from sklearn.tree import DecisionTreeRegressor\n",
        "\n",
        "# Running menggunakan model diatas\n",
        "lin_model = LinearRegression()\n",
        "lin_model.fit(x_train, y_train)\n",
        "lin_pred = lin_model.predict(x_test)\n",
        "\n",
        "# Memanggil accuracy variabel dari data train dan test  menggunakan fungsi lin_model.score\n",
        "print('Train Accuracy: %f' % lin_model.score(x_train, y_train))\n",
        "print('Test Accuracy: %f' % lin_model.score(x_test, y_test))"
      ],
      "execution_count": null,
      "outputs": [
        {
          "output_type": "stream",
          "text": [
            "Train Accuracy: 0.928142\n",
            "Test Accuracy: 0.926525\n"
          ],
          "name": "stdout"
        }
      ]
    },
    {
      "cell_type": "markdown",
      "metadata": {
        "id": "0jj3Jt1B_xkC"
      },
      "source": [
        "# **TOPIK: DATA CLASSIFICATION (F1)**"
      ]
    },
    {
      "cell_type": "markdown",
      "metadata": {
        "id": "VK2SFijX_7H3"
      },
      "source": [
        "1. Berdasarkan data A3, tentukan feature yang akan digunakan\n",
        "2. Buatlah rencana plan Classification\n",
        "3. Interpretasikan data menuju variable yang dapat digunakan\n",
        "4. apakah dataset ini cocok untuk Classification?\n",
        "5. analisa atribut yang memiliki korelasi tinggi?\n",
        "6. pilih feature yang digunakan untuk Classification\n",
        "7. pilih algoritma Classification yang tepat\n",
        "8. pilih Hyperparameter yang tepat\n",
        "9. analisa dataset secara sederhana\n",
        "10. analisa performa dari Classification\n",
        "11. analisa akurasi dari Classification\n",
        "12. analisa f-measure dengan sklearn"
      ]
    },
    {
      "cell_type": "code",
      "metadata": {
        "colab": {
          "base_uri": "https://localhost:8080/"
        },
        "id": "8oUtadMgVd9Q",
        "outputId": "31a76282-9a85-4d63-dc52-1d32241c6331"
      },
      "source": [
        "#MASUKAN JAWABAN F1 disini (jika jawaban merupakan isian, gunakan comment Python #\n",
        "#1 Fitur yang Dipilih: Menggunakan Analisis (KDE Plot, Distance Plot & koefisien korelasi) pada Voice DataFrame, ada tiga fitur penting yaitu IQR, Q25, meanfun.\n",
        "selected_features = ['IQR','Q25','meanfun']\n",
        "df_X = df[selected_features]\n",
        "df_y = df.label\n",
        "\n",
        "df_X.head()\n",
        "\n",
        "df_y.head()\n",
        "\n",
        "#2 Plan classification\n",
        "# Hermon Jay 14-10-2017\n",
        "# klasifikasi jenis kelamin dengan \n",
        "# Decision Tree, SVM, KNN, dan Naive Bayes\n",
        "\n",
        "from sklearn import tree\n",
        "from sklearn import svm\n",
        "from sklearn import neighbors\n",
        "from sklearn.metrics import accuracy_score\n",
        "from sklearn.naive_bayes import GaussianNB\n",
        "\n",
        "# model untuk ketiga classifier\n",
        "cDT = tree.DecisionTreeClassifier()\n",
        "cSVM = svm.SVC()\n",
        "cKNN = neighbors.KNeighborsClassifier()\n",
        "cNB = GaussianNB()\n",
        "\n",
        "# data latih\n",
        "# [tingi, berat, ukuran_sepatu]\n",
        "X = [[181, 80, 44], [177, 70, 43], [160, 60, 38], [154, 54, 37], [166, 65, 40],\n",
        " [190, 90, 47], [175, 64, 39], [177, 70, 40], [159, 55, 37], [171, 75, 42],\n",
        " [181, 85, 43]]\n",
        "\n",
        "Y = ['pria', 'pria', 'wanita', 'wanita', 'pria', 'pria', 'wanita', 'wanita',\n",
        " 'wanita', 'pria', 'pria']\n",
        "\n",
        "# latih classifier\n",
        "cDT = cDT.fit(X, Y)\n",
        "cSVM = cSVM.fit(X, Y)\n",
        "cKNN = cKNN.fit(X, Y)\n",
        "cNB = cNB.fit(X, Y)\n",
        "\n",
        "# data test\n",
        "X_test = [[198, 92, 48], [184, 84, 44], [183, 83, 44], [166, 47, 36],\n",
        " [170, 60, 38], [172, 64, 39], [182, 80, 42], [180, 80, 43]]\n",
        "Y_test = ['pria', 'pria', 'pria', 'wanita', 'wanita', 'wanita', 'pria', 'pria']\n",
        "\n",
        "# prediksi data test\n",
        "Y_DT = cDT.predict(X_test)\n",
        "Y_SVM = cSVM.predict(X_test)\n",
        "Y_KNN = cKNN.predict(X_test)\n",
        "Y_NB = cNB.predict(X_test)\n",
        "\n",
        "# print prediksi\n",
        "#print(\"Prediksi Decision Tree : \", Y_DT)\n",
        "#print(\"Prediksi SVM : \", Y_SVM)\n",
        "#print(\"Prediksi KNN : \", Y_KNN)\n",
        "#print(\"Prediksi Naive Bayes : \", Y_NB)\n",
        "\n",
        "# print akurasi\n",
        "print(\"Akurasi Decision Tree : \", accuracy_score(Y_test, Y_DT))\n",
        "print(\"Akurasi SVM : \", accuracy_score(Y_test, Y_SVM))\n",
        "print(\"Akurasi KNN : \", accuracy_score(Y_test, Y_KNN))\n",
        "print(\"Akurasi Naive Bayes : \", accuracy_score(Y_test, Y_NB))\n",
        "\n",
        "#3 Interpretasikan data menuju variable \n",
        "features = ['IQR',\t'Q25',\t'meanfun']\n",
        "sns.set_style('darkgrid')\n",
        "\n",
        "plt.hist(df['IQR'])\n",
        "plt.xlabel('IQR')\n",
        "plt.ylabel('Q25')\n",
        "plt.title('Age distribution.')\n",
        "\n",
        "#4 Apakah dataset ini cocok untuk Classification? \n",
        "# iya cocok, karna Menggunakan Analisis (KDE Plot, Distance Plot & koefisien korelasi) pada Voice DataFrame, ada tiga fitur penting yaitu IQR, Q25, meanfun.\n",
        "\n",
        "#5 Analisa atribut yang memiliki korelasi tinggi\n",
        "colormap = plt.cm.viridis\n",
        "plt.figure(figsize=(13,13))\n",
        "plt.title('Pearson Correlation of Features', y=1.05, size=15)\n",
        "sns.heatmap(df.iloc[:,:-1].astype(float).corr(),vmax=1.0, square=True,cmap=\"RdBu_r\",annot=True)\n",
        "sns.relplot(x='maxdom',y='dfrange',hue='label',kind='scatter',data=df)\n",
        "sns.relplot(x='meanfreq',y='centroid',hue='label',kind='scatter',data=df)\n",
        "sns.relplot(x='skew',y='kurt',hue='label',kind='scatter',data=df)\n",
        "\n",
        "#6 Pilih feature yang digunakan untuk Classification\n",
        "# Feature yang digunakan yaitu fitur Model SVM akhir\n",
        "\n",
        "\n",
        "#7 Algoritma analisis\n",
        "sns.pairplot(df, size=2.5)\n",
        "\n",
        "#8 Hyperparameter\n",
        "\n",
        "\n",
        "#9 Analisa dataset sederhana\n",
        "# Data deskripsp\n",
        "df.info()\n",
        "\n",
        "print(\"Size of Gender Recognition dataset       : {}\".format(df.shape))\n",
        "\n",
        "#10 analisa performa dari Classification\n",
        "import time\n",
        "\n",
        "\n",
        "def a(t0, t1):\n",
        "    c(t0)\n",
        "    d(t1)\n",
        "    return\n",
        "\n",
        "\n",
        "def b():\n",
        "    return a(1, 4)\n",
        "\n",
        "\n",
        "def c(t):\n",
        "    time.sleep(t)\n",
        "    return\n",
        "\n",
        "\n",
        "def d(t):\n",
        "    time.sleep(t)\n",
        "    return\n",
        "\n",
        "\n",
        "if __name__ == \"__main__\":\n",
        "    a(4, 1)\n",
        "    b()\n",
        "\n",
        "print()\n",
        "\n",
        "#11 Analisa akurasi dari Classification\n",
        "from sklearn.linear_model import LogisticRegression\n",
        "lr=LogisticRegression()\n",
        "lr.fit(x_train,y_train)\n",
        "print(\"Test Accuracy: {} %\".format(lr.score(x_test,y_test)*100))\n",
        "\n",
        "#Confusion matrix:\n",
        "y_pred_lr=lr.predict(x_test)\n",
        "y_true=y_test\n",
        "from sklearn.metrics import confusion_matrix\n",
        "cm=confusion_matrix(y_pred_lr,y_true)\n",
        "f,ax=plt.subplots(figsize=(3,3))\n",
        "sns.heatmap(cm,annot=True,linecolor=\"blue\",linewidth=0.3,fmt=\".0f\",ax=ax)\n",
        "plt.xlabel(\"y_pred\")\n",
        "plt.ylabel(\"y_true\")\n",
        "plt.show()\n",
        "\n",
        "#12 Analisa f-measure dengan sklearn\n",
        "df.describe()\n",
        "\n",
        "from sklearn import preprocessing\n",
        "le = preprocessing.LabelEncoder()\n",
        "df[\"label\"] = le.fit_transform(df[\"label\"])\n",
        "le.classes_\n",
        "\n",
        "df[:]=preprocessing.MinMaxScaler().fit_transform(df)\n",
        "df.head()\n",
        "\n",
        "from sklearn import preprocessing\n",
        "from sklearn.model_selection import train_test_split\n",
        "from sklearn.metrics import accuracy_score\n",
        "\n",
        "from sklearn import neighbors\n",
        "from sklearn import naive_bayes\n",
        "from sklearn import tree\n",
        "from sklearn import ensemble\n",
        "from sklearn import svm\n",
        "from sklearn import neural_network\n",
        "import xgboost\n",
        "\n",
        "# Pisahkan data\n",
        "train, test = train_test_split(df, test_size=0.3)\n",
        "train.head\n",
        "\n",
        "import seaborn as sns\n",
        "import matplotlib.pyplot as plt\n",
        "plt.subplots(4,5,figsize=(15,15))\n",
        "for i in range(1,21):\n",
        "    plt.subplot(4,5,i)\n",
        "    plt.title(df.columns[i-1])\n",
        "    sns.kdeplot(df.loc[df['label'] == 0, df.columns[i-1]], color= 'green', label='F')\n",
        "    sns.kdeplot(df.loc[df['label'] == 1, df.columns[i-1]], color= 'blue', label='M')\n",
        "\n",
        "from sklearn import preprocessing\n",
        "from sklearn.model_selection import train_test_split\n",
        "from sklearn.metrics import accuracy_score\n",
        "\n",
        "from sklearn import neighbors\n",
        "from sklearn import naive_bayes\n",
        "from sklearn import tree\n",
        "from sklearn import ensemble\n",
        "from sklearn import svm\n",
        "from sklearn import neural_network\n",
        "import xgboost\n",
        "\n",
        "# Pisahkan data\n",
        "train, test = train_test_split(df, test_size=0.3)\n",
        "\n",
        "train.head()"
      ],
      "execution_count": null,
      "outputs": [
        {
          "output_type": "stream",
          "text": [
            "Akurasi Decision Tree :  1.0\n",
            "Akurasi SVM :  0.625\n",
            "Akurasi KNN :  0.875\n",
            "Akurasi Naive Bayes :  1.0\n"
          ],
          "name": "stdout"
        },
        {
          "output_type": "stream",
          "text": [
            "/usr/local/lib/python3.7/dist-packages/seaborn/axisgrid.py:1969: UserWarning: The `size` parameter has been renamed to `height`; please update your code.\n",
            "  warnings.warn(msg, UserWarning)\n"
          ],
          "name": "stderr"
        }
      ]
    }
  ]
}